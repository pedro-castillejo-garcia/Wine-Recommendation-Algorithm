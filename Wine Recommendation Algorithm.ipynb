{
 "cells": [
  {
   "cell_type": "markdown",
   "metadata": {
    "tags": []
   },
   "source": [
    "## Project: Wine Recommendation System\n",
    "#### Author: Pedro Castillejo Garcia\n",
    "#### Created on: June 2023\n",
    "\n",
    "\n",
    "#### Description: This is a recommendation system which helps buyers to find wine bottles from a data set to save their time and money. The python algorithms build co-occurrence matrix and based on different parameters such as wine description, country and province of origin, variety, reviews (in a scale from 0-100 points) and price segment, the most similar products are returned from the database as recommendation."
   ]
  },
  {
   "cell_type": "markdown",
   "metadata": {},
   "source": [
    "### Loading basic packages"
   ]
  },
  {
   "cell_type": "code",
   "execution_count": 1,
   "metadata": {
    "tags": []
   },
   "outputs": [],
   "source": [
    "import pandas as pd\n",
    "import numpy as np\n",
    "import matplotlib as plt\n",
    "pd.set_option(\"display.max.columns\", None)"
   ]
  },
  {
   "cell_type": "markdown",
   "metadata": {},
   "source": [
    "### Load the data set winemag-data-130k-v2.csv"
   ]
  },
  {
   "cell_type": "code",
   "execution_count": 2,
   "metadata": {
    "tags": []
   },
   "outputs": [
    {
     "data": {
      "text/html": [
       "<div>\n",
       "<style scoped>\n",
       "    .dataframe tbody tr th:only-of-type {\n",
       "        vertical-align: middle;\n",
       "    }\n",
       "\n",
       "    .dataframe tbody tr th {\n",
       "        vertical-align: top;\n",
       "    }\n",
       "\n",
       "    .dataframe thead th {\n",
       "        text-align: right;\n",
       "    }\n",
       "</style>\n",
       "<table border=\"1\" class=\"dataframe\">\n",
       "  <thead>\n",
       "    <tr style=\"text-align: right;\">\n",
       "      <th></th>\n",
       "      <th>Unnamed: 0</th>\n",
       "      <th>country</th>\n",
       "      <th>description</th>\n",
       "      <th>designation</th>\n",
       "      <th>points</th>\n",
       "      <th>price</th>\n",
       "      <th>province</th>\n",
       "      <th>region_1</th>\n",
       "      <th>region_2</th>\n",
       "      <th>taster_name</th>\n",
       "      <th>taster_twitter_handle</th>\n",
       "      <th>title</th>\n",
       "      <th>variety</th>\n",
       "      <th>winery</th>\n",
       "    </tr>\n",
       "  </thead>\n",
       "  <tbody>\n",
       "    <tr>\n",
       "      <th>0</th>\n",
       "      <td>0</td>\n",
       "      <td>Italy</td>\n",
       "      <td>Aromas include tropical fruit, broom, brimston...</td>\n",
       "      <td>Vulkà Bianco</td>\n",
       "      <td>87</td>\n",
       "      <td>NaN</td>\n",
       "      <td>Sicily &amp; Sardinia</td>\n",
       "      <td>Etna</td>\n",
       "      <td>NaN</td>\n",
       "      <td>Kerin O’Keefe</td>\n",
       "      <td>@kerinokeefe</td>\n",
       "      <td>Nicosia 2013 Vulkà Bianco  (Etna)</td>\n",
       "      <td>White Blend</td>\n",
       "      <td>Nicosia</td>\n",
       "    </tr>\n",
       "    <tr>\n",
       "      <th>1</th>\n",
       "      <td>1</td>\n",
       "      <td>Portugal</td>\n",
       "      <td>This is ripe and fruity, a wine that is smooth...</td>\n",
       "      <td>Avidagos</td>\n",
       "      <td>87</td>\n",
       "      <td>15.0</td>\n",
       "      <td>Douro</td>\n",
       "      <td>NaN</td>\n",
       "      <td>NaN</td>\n",
       "      <td>Roger Voss</td>\n",
       "      <td>@vossroger</td>\n",
       "      <td>Quinta dos Avidagos 2011 Avidagos Red (Douro)</td>\n",
       "      <td>Portuguese Red</td>\n",
       "      <td>Quinta dos Avidagos</td>\n",
       "    </tr>\n",
       "    <tr>\n",
       "      <th>2</th>\n",
       "      <td>2</td>\n",
       "      <td>US</td>\n",
       "      <td>Tart and snappy, the flavors of lime flesh and...</td>\n",
       "      <td>NaN</td>\n",
       "      <td>87</td>\n",
       "      <td>14.0</td>\n",
       "      <td>Oregon</td>\n",
       "      <td>Willamette Valley</td>\n",
       "      <td>Willamette Valley</td>\n",
       "      <td>Paul Gregutt</td>\n",
       "      <td>@paulgwine</td>\n",
       "      <td>Rainstorm 2013 Pinot Gris (Willamette Valley)</td>\n",
       "      <td>Pinot Gris</td>\n",
       "      <td>Rainstorm</td>\n",
       "    </tr>\n",
       "    <tr>\n",
       "      <th>3</th>\n",
       "      <td>3</td>\n",
       "      <td>US</td>\n",
       "      <td>Pineapple rind, lemon pith and orange blossom ...</td>\n",
       "      <td>Reserve Late Harvest</td>\n",
       "      <td>87</td>\n",
       "      <td>13.0</td>\n",
       "      <td>Michigan</td>\n",
       "      <td>Lake Michigan Shore</td>\n",
       "      <td>NaN</td>\n",
       "      <td>Alexander Peartree</td>\n",
       "      <td>NaN</td>\n",
       "      <td>St. Julian 2013 Reserve Late Harvest Riesling ...</td>\n",
       "      <td>Riesling</td>\n",
       "      <td>St. Julian</td>\n",
       "    </tr>\n",
       "    <tr>\n",
       "      <th>4</th>\n",
       "      <td>4</td>\n",
       "      <td>US</td>\n",
       "      <td>Much like the regular bottling from 2012, this...</td>\n",
       "      <td>Vintner's Reserve Wild Child Block</td>\n",
       "      <td>87</td>\n",
       "      <td>65.0</td>\n",
       "      <td>Oregon</td>\n",
       "      <td>Willamette Valley</td>\n",
       "      <td>Willamette Valley</td>\n",
       "      <td>Paul Gregutt</td>\n",
       "      <td>@paulgwine</td>\n",
       "      <td>Sweet Cheeks 2012 Vintner's Reserve Wild Child...</td>\n",
       "      <td>Pinot Noir</td>\n",
       "      <td>Sweet Cheeks</td>\n",
       "    </tr>\n",
       "  </tbody>\n",
       "</table>\n",
       "</div>"
      ],
      "text/plain": [
       "   Unnamed: 0   country                                        description  \\\n",
       "0           0     Italy  Aromas include tropical fruit, broom, brimston...   \n",
       "1           1  Portugal  This is ripe and fruity, a wine that is smooth...   \n",
       "2           2        US  Tart and snappy, the flavors of lime flesh and...   \n",
       "3           3        US  Pineapple rind, lemon pith and orange blossom ...   \n",
       "4           4        US  Much like the regular bottling from 2012, this...   \n",
       "\n",
       "                          designation  points  price           province  \\\n",
       "0                        Vulkà Bianco      87    NaN  Sicily & Sardinia   \n",
       "1                            Avidagos      87   15.0              Douro   \n",
       "2                                 NaN      87   14.0             Oregon   \n",
       "3                Reserve Late Harvest      87   13.0           Michigan   \n",
       "4  Vintner's Reserve Wild Child Block      87   65.0             Oregon   \n",
       "\n",
       "              region_1           region_2         taster_name  \\\n",
       "0                 Etna                NaN       Kerin O’Keefe   \n",
       "1                  NaN                NaN          Roger Voss   \n",
       "2    Willamette Valley  Willamette Valley        Paul Gregutt   \n",
       "3  Lake Michigan Shore                NaN  Alexander Peartree   \n",
       "4    Willamette Valley  Willamette Valley        Paul Gregutt   \n",
       "\n",
       "  taster_twitter_handle                                              title  \\\n",
       "0          @kerinokeefe                  Nicosia 2013 Vulkà Bianco  (Etna)   \n",
       "1            @vossroger      Quinta dos Avidagos 2011 Avidagos Red (Douro)   \n",
       "2           @paulgwine       Rainstorm 2013 Pinot Gris (Willamette Valley)   \n",
       "3                   NaN  St. Julian 2013 Reserve Late Harvest Riesling ...   \n",
       "4           @paulgwine   Sweet Cheeks 2012 Vintner's Reserve Wild Child...   \n",
       "\n",
       "          variety               winery  \n",
       "0     White Blend              Nicosia  \n",
       "1  Portuguese Red  Quinta dos Avidagos  \n",
       "2      Pinot Gris            Rainstorm  \n",
       "3        Riesling           St. Julian  \n",
       "4      Pinot Noir         Sweet Cheeks  "
      ]
     },
     "execution_count": 2,
     "metadata": {},
     "output_type": "execute_result"
    }
   ],
   "source": [
    "data = pd.read_csv('winemag-data-130k-v2.csv', low_memory=False)\n",
    "data.head()"
   ]
  },
  {
   "cell_type": "markdown",
   "metadata": {},
   "source": [
    "#### We have some \"nan\" string values, those are cells that are empty in our table, let's remove them and copy the columns which will be needed to build the engine"
   ]
  },
  {
   "cell_type": "code",
   "execution_count": 3,
   "metadata": {
    "tags": []
   },
   "outputs": [],
   "source": [
    "wine = data[['title', 'country', 'description', 'points', 'price', 'province', 'variety', 'winery']]\n",
    "wine = wine.query(\"title != 'NaN' and country != 'NaN' and description != 'NaN' and points != 'NaN' and price != 'NaN' and province != 'NaN' and variety != 'NaN' and winery != 'NaN'\")\n",
    "wine = wine.dropna()"
   ]
  },
  {
   "cell_type": "markdown",
   "metadata": {},
   "source": [
    "### Now sort the wines according to their points (with most points on top)"
   ]
  },
  {
   "cell_type": "code",
   "execution_count": 4,
   "metadata": {
    "tags": []
   },
   "outputs": [
    {
     "data": {
      "text/plain": [
       "(120915, 8)"
      ]
     },
     "execution_count": 4,
     "metadata": {},
     "output_type": "execute_result"
    }
   ],
   "source": [
    "wine = wine.sort_values('points', ascending=False)\n",
    "wine.head()\n",
    "wine.shape"
   ]
  },
  {
   "cell_type": "markdown",
   "metadata": {},
   "source": [
    "#### We have 120915 observations in 8 columns which is too much to calculate cosine similarity on any normal computer so let's use only part of the original database. "
   ]
  },
  {
   "cell_type": "code",
   "execution_count": 5,
   "metadata": {
    "tags": []
   },
   "outputs": [
    {
     "data": {
      "text/plain": [
       "(20460, 8)"
      ]
     },
     "execution_count": 5,
     "metadata": {},
     "output_type": "execute_result"
    }
   ],
   "source": [
    "wine['points'].describe()\n",
    "quantile = wine[\"points\"].quantile(0.90)\n",
    "wine = wine.copy().loc[wine[\"points\"] >= quantile]\n",
    "wine.shape"
   ]
  },
  {
   "cell_type": "markdown",
   "metadata": {},
   "source": [
    "#### Now a 10% of the original database is remainining (As we are using a quantile of 0.9. That means that the rest up to 1 is what we will be using, that is 0.1, then a 10%, which in this case is around 20500 wines. This amount of data should be enough to prepare reliable recommendation engine. However, if you have more powerful computer, feel free to change the used quantile."
   ]
  },
  {
   "cell_type": "markdown",
   "metadata": {},
   "source": [
    "### Let's build the first engine which will be based on description of the wines bottles so we put that column the first one in the table"
   ]
  },
  {
   "cell_type": "code",
   "execution_count": 6,
   "metadata": {
    "tags": []
   },
   "outputs": [
    {
     "data": {
      "text/plain": [
       "111756    A hugely powerful wine, full of dark, brooding...\n",
       "42197     This is the latest release of what has long be...\n",
       "89729     This new release from a great vintage for Char...\n",
       "113929    In 2005 Charles Smith introduced three high-en...\n",
       "7335      Thick as molasses and dark as caramelized brow...\n",
       "Name: description, dtype: object"
      ]
     },
     "execution_count": 6,
     "metadata": {},
     "output_type": "execute_result"
    }
   ],
   "source": [
    "wine[\"description\"].head()"
   ]
  },
  {
   "cell_type": "markdown",
   "metadata": {},
   "source": [
    "### Import class from scikitlearn"
   ]
  },
  {
   "cell_type": "code",
   "execution_count": 7,
   "metadata": {
    "tags": []
   },
   "outputs": [],
   "source": [
    "from sklearn.feature_extraction.text import TfidfVectorizer"
   ]
  },
  {
   "cell_type": "markdown",
   "metadata": {},
   "source": [
    "#### To increase accuracy, we remove all english stop words such as \"the\", \"a\" or \"is\""
   ]
  },
  {
   "cell_type": "code",
   "execution_count": 8,
   "metadata": {
    "tags": []
   },
   "outputs": [],
   "source": [
    "tfidf = TfidfVectorizer(stop_words='english')\n",
    "tfidf_matrix = tfidf.fit_transform(wine['description'])"
   ]
  },
  {
   "cell_type": "markdown",
   "metadata": {},
   "source": [
    "### Import class from scikitlearn"
   ]
  },
  {
   "cell_type": "code",
   "execution_count": 9,
   "metadata": {
    "tags": []
   },
   "outputs": [],
   "source": [
    "from sklearn.metrics.pairwise import linear_kernel"
   ]
  },
  {
   "cell_type": "markdown",
   "metadata": {},
   "source": [
    "#### The code from below will create the cosine similarity matrix which be needed to build the engine.\n",
    "\n",
    "#### If you get memory error, increase the quantile value used to divide dataframe."
   ]
  },
  {
   "cell_type": "code",
   "execution_count": 10,
   "metadata": {
    "tags": []
   },
   "outputs": [],
   "source": [
    "cosine_simil = linear_kernel(tfidf_matrix, tfidf_matrix)"
   ]
  },
  {
   "cell_type": "code",
   "execution_count": 11,
   "metadata": {
    "tags": []
   },
   "outputs": [],
   "source": [
    "indices = pd.Series(wine.index, index=wine['title']).drop_duplicates()"
   ]
  },
  {
   "cell_type": "code",
   "execution_count": 12,
   "metadata": {
    "tags": []
   },
   "outputs": [],
   "source": [
    "def wine_recommendations(title, cosine_simil=cosine_simil):\n",
    "    \n",
    "    # Fit index of the wine to each wine title\n",
    "    index = indices[title]\n",
    "    \n",
    "    # Calculate the similarity score between wine which you selected and the others wines in database\n",
    "    simil_scores = list(enumerate(cosine_simil[index]))\n",
    "    \n",
    "    # Sort the results by the similarity scores\n",
    "    simil_scores = sorted(simil_scores, key=lambda x: x[1], reverse=True)\n",
    "    \n",
    "    # Show the top 5 results with the highest similarity score\n",
    "    simil_scores = simil_scores[1:6]\n",
    "\n",
    "    # Extract indices of the recommended wines\n",
    "    wine_indices = [i[0] for i in simil_scores]\n",
    "\n",
    "    # Create new dataframe\n",
    "    recom1 = wine[['title', 'country', 'description', 'points', 'price', 'province', 'variety', 'winery']].iloc[wine_indices]\n",
    "\n",
    "    # Combine selected wine and recommendations in this new dataframe\n",
    "    frames = [wine[wine[\"title\"] == title], recom1]\n",
    "    recommendation = pd.concat(frames, keys=['x', 'y'])\n",
    "    \n",
    "    # Return the result recommendation\n",
    "    return recommendation"
   ]
  },
  {
   "cell_type": "markdown",
   "metadata": {},
   "source": [
    "### To get recommendation, you have to use wine title which index is not higher than size of wine dataframe (for quantile = 90 the max index is 20461)"
   ]
  },
  {
   "cell_type": "markdown",
   "metadata": {
    "tags": []
   },
   "source": [
    "#### Below we see the 5 wines recommended by the engine as a first approach"
   ]
  },
  {
   "cell_type": "code",
   "execution_count": 13,
   "metadata": {
    "scrolled": true,
    "tags": []
   },
   "outputs": [
    {
     "data": {
      "text/html": [
       "<div>\n",
       "<style scoped>\n",
       "    .dataframe tbody tr th:only-of-type {\n",
       "        vertical-align: middle;\n",
       "    }\n",
       "\n",
       "    .dataframe tbody tr th {\n",
       "        vertical-align: top;\n",
       "    }\n",
       "\n",
       "    .dataframe thead th {\n",
       "        text-align: right;\n",
       "    }\n",
       "</style>\n",
       "<table border=\"1\" class=\"dataframe\">\n",
       "  <thead>\n",
       "    <tr style=\"text-align: right;\">\n",
       "      <th></th>\n",
       "      <th></th>\n",
       "      <th>title</th>\n",
       "      <th>country</th>\n",
       "      <th>description</th>\n",
       "      <th>points</th>\n",
       "      <th>price</th>\n",
       "      <th>province</th>\n",
       "      <th>variety</th>\n",
       "      <th>winery</th>\n",
       "    </tr>\n",
       "  </thead>\n",
       "  <tbody>\n",
       "    <tr>\n",
       "      <th>x</th>\n",
       "      <th>1575</th>\n",
       "      <td>Château Mouton Rothschild 2009  Pauillac</td>\n",
       "      <td>France</td>\n",
       "      <td>The purest Cabernet Sauvignon fruit, with dark...</td>\n",
       "      <td>96</td>\n",
       "      <td>1300.0</td>\n",
       "      <td>Bordeaux</td>\n",
       "      <td>Bordeaux-style Red Blend</td>\n",
       "      <td>Château Mouton Rothschild</td>\n",
       "    </tr>\n",
       "    <tr>\n",
       "      <th rowspan=\"5\" valign=\"top\">y</th>\n",
       "      <th>84282</th>\n",
       "      <td>Castello di Verduno 2012 Massara  (Barolo)</td>\n",
       "      <td>Italy</td>\n",
       "      <td>This opens with a classic Nebbiolo nose of blu...</td>\n",
       "      <td>94</td>\n",
       "      <td>60.0</td>\n",
       "      <td>Piedmont</td>\n",
       "      <td>Nebbiolo</td>\n",
       "      <td>Castello di Verduno</td>\n",
       "    </tr>\n",
       "    <tr>\n",
       "      <th>41398</th>\n",
       "      <td>Benanti 2011 Serra della Contessa  (Etna)</td>\n",
       "      <td>Italy</td>\n",
       "      <td>This gorgeous wine opens with fragrances of bl...</td>\n",
       "      <td>94</td>\n",
       "      <td>65.0</td>\n",
       "      <td>Sicily &amp; Sardinia</td>\n",
       "      <td>Red Blend</td>\n",
       "      <td>Benanti</td>\n",
       "    </tr>\n",
       "    <tr>\n",
       "      <th>97228</th>\n",
       "      <td>Boscarelli 2010 Riserva  (Vino Nobile di Monte...</td>\n",
       "      <td>Italy</td>\n",
       "      <td>Aromas of blue flower, spiced plum, ripe berry...</td>\n",
       "      <td>93</td>\n",
       "      <td>50.0</td>\n",
       "      <td>Tuscany</td>\n",
       "      <td>Red Blend</td>\n",
       "      <td>Boscarelli</td>\n",
       "    </tr>\n",
       "    <tr>\n",
       "      <th>15454</th>\n",
       "      <td>Il Grappolo 2010  Brunello di Montalcino</td>\n",
       "      <td>Italy</td>\n",
       "      <td>Aromas recall mature dark berry, stewed plum, ...</td>\n",
       "      <td>93</td>\n",
       "      <td>50.0</td>\n",
       "      <td>Tuscany</td>\n",
       "      <td>Sangiovese</td>\n",
       "      <td>Il Grappolo</td>\n",
       "    </tr>\n",
       "    <tr>\n",
       "      <th>97230</th>\n",
       "      <td>Il Molino di Grace 2010 Il Margone Gran Selezi...</td>\n",
       "      <td>Italy</td>\n",
       "      <td>Earthy aromas of leather, tilled soil, blue fl...</td>\n",
       "      <td>93</td>\n",
       "      <td>45.0</td>\n",
       "      <td>Tuscany</td>\n",
       "      <td>Red Blend</td>\n",
       "      <td>Il Molino di Grace</td>\n",
       "    </tr>\n",
       "  </tbody>\n",
       "</table>\n",
       "</div>"
      ],
      "text/plain": [
       "                                                     title country  \\\n",
       "x 1575            Château Mouton Rothschild 2009  Pauillac  France   \n",
       "y 84282         Castello di Verduno 2012 Massara  (Barolo)   Italy   \n",
       "  41398          Benanti 2011 Serra della Contessa  (Etna)   Italy   \n",
       "  97228  Boscarelli 2010 Riserva  (Vino Nobile di Monte...   Italy   \n",
       "  15454           Il Grappolo 2010  Brunello di Montalcino   Italy   \n",
       "  97230  Il Molino di Grace 2010 Il Margone Gran Selezi...   Italy   \n",
       "\n",
       "                                               description  points   price  \\\n",
       "x 1575   The purest Cabernet Sauvignon fruit, with dark...      96  1300.0   \n",
       "y 84282  This opens with a classic Nebbiolo nose of blu...      94    60.0   \n",
       "  41398  This gorgeous wine opens with fragrances of bl...      94    65.0   \n",
       "  97228  Aromas of blue flower, spiced plum, ripe berry...      93    50.0   \n",
       "  15454  Aromas recall mature dark berry, stewed plum, ...      93    50.0   \n",
       "  97230  Earthy aromas of leather, tilled soil, blue fl...      93    45.0   \n",
       "\n",
       "                  province                   variety  \\\n",
       "x 1575            Bordeaux  Bordeaux-style Red Blend   \n",
       "y 84282           Piedmont                  Nebbiolo   \n",
       "  41398  Sicily & Sardinia                 Red Blend   \n",
       "  97228            Tuscany                 Red Blend   \n",
       "  15454            Tuscany                Sangiovese   \n",
       "  97230            Tuscany                 Red Blend   \n",
       "\n",
       "                            winery  \n",
       "x 1575   Château Mouton Rothschild  \n",
       "y 84282        Castello di Verduno  \n",
       "  41398                    Benanti  \n",
       "  97228                 Boscarelli  \n",
       "  15454                Il Grappolo  \n",
       "  97230         Il Molino di Grace  "
      ]
     },
     "execution_count": 13,
     "metadata": {},
     "output_type": "execute_result"
    }
   ],
   "source": [
    "Recommendation = wine_recommendations('Château Mouton Rothschild 2009  Pauillac')\n",
    "Recommendation"
   ]
  },
  {
   "cell_type": "markdown",
   "metadata": {
    "tags": []
   },
   "source": [
    "#### I don't think these are the worthful recommendations. Let's try to fix it and create new column with metadata of wine bottles"
   ]
  },
  {
   "cell_type": "markdown",
   "metadata": {},
   "source": [
    "#### Before that, we have to change price and points to strings for easier categorising"
   ]
  },
  {
   "cell_type": "code",
   "execution_count": 14,
   "metadata": {
    "tags": []
   },
   "outputs": [],
   "source": [
    "wine['price'] = wine['price'].astype(str) \n",
    "wine['points'] = wine['points'].astype(str)"
   ]
  },
  {
   "cell_type": "markdown",
   "metadata": {},
   "source": [
    "### And remove duplicates in titles"
   ]
  },
  {
   "cell_type": "code",
   "execution_count": 15,
   "metadata": {
    "tags": []
   },
   "outputs": [
    {
     "data": {
      "text/plain": [
       "title\n",
       "Domaine Vacheron 2015  Sancerre                                4\n",
       "Château Pape Clément 2014  Pessac-Léognan                      3\n",
       "Roederer Estate NV Brut Rosé Sparkling (Anderson Valley)       3\n",
       "Perrier Jouët 2006 Belle Epoque Brut Rosé  (Champagne)         3\n",
       "Fattoria La Lecciaia 2010 Riserva  (Brunello di Montalcino)    3\n",
       "                                                              ..\n",
       "Adega Mãe 2012 Dory Reserva Red (Lisboa)                       1\n",
       "Bella 2012 Rocky Ridge Zinfandel (Rockpile)                    1\n",
       "Louis Latour 2011 Les Demoiselles  (Chevalier-Montrachet)      1\n",
       "Paul Hobbs 2011 Cabernet Sauvignon (Napa Valley)               1\n",
       "Quinta do Sagrado 2007 Reserva Red (Douro)                     1\n",
       "Name: count, Length: 19313, dtype: int64"
      ]
     },
     "execution_count": 15,
     "metadata": {},
     "output_type": "execute_result"
    }
   ],
   "source": [
    "wine['title'].value_counts()"
   ]
  },
  {
   "cell_type": "code",
   "execution_count": 16,
   "metadata": {
    "tags": []
   },
   "outputs": [
    {
     "data": {
      "text/html": [
       "<div>\n",
       "<style scoped>\n",
       "    .dataframe tbody tr th:only-of-type {\n",
       "        vertical-align: middle;\n",
       "    }\n",
       "\n",
       "    .dataframe tbody tr th {\n",
       "        vertical-align: top;\n",
       "    }\n",
       "\n",
       "    .dataframe thead th {\n",
       "        text-align: right;\n",
       "    }\n",
       "</style>\n",
       "<table border=\"1\" class=\"dataframe\">\n",
       "  <thead>\n",
       "    <tr style=\"text-align: right;\">\n",
       "      <th></th>\n",
       "      <th>title</th>\n",
       "      <th>country</th>\n",
       "      <th>description</th>\n",
       "      <th>points</th>\n",
       "      <th>price</th>\n",
       "      <th>province</th>\n",
       "      <th>variety</th>\n",
       "      <th>winery</th>\n",
       "    </tr>\n",
       "  </thead>\n",
       "  <tbody>\n",
       "    <tr>\n",
       "      <th>23569</th>\n",
       "      <td>Charles Heidsieck NV Brut Réserve  (Champagne)</td>\n",
       "      <td>France</td>\n",
       "      <td>A great wine, much more than only a Champagne,...</td>\n",
       "      <td>93</td>\n",
       "      <td>55.0</td>\n",
       "      <td>Champagne</td>\n",
       "      <td>Champagne Blend</td>\n",
       "      <td>Charles Heidsieck</td>\n",
       "    </tr>\n",
       "    <tr>\n",
       "      <th>96155</th>\n",
       "      <td>Charles Heidsieck NV Brut Réserve  (Champagne)</td>\n",
       "      <td>France</td>\n",
       "      <td>This ripe Champagne is deliciously balanced be...</td>\n",
       "      <td>92</td>\n",
       "      <td>65.0</td>\n",
       "      <td>Champagne</td>\n",
       "      <td>Champagne Blend</td>\n",
       "      <td>Charles Heidsieck</td>\n",
       "    </tr>\n",
       "  </tbody>\n",
       "</table>\n",
       "</div>"
      ],
      "text/plain": [
       "                                                title country  \\\n",
       "23569  Charles Heidsieck NV Brut Réserve  (Champagne)  France   \n",
       "96155  Charles Heidsieck NV Brut Réserve  (Champagne)  France   \n",
       "\n",
       "                                             description points price  \\\n",
       "23569  A great wine, much more than only a Champagne,...     93  55.0   \n",
       "96155  This ripe Champagne is deliciously balanced be...     92  65.0   \n",
       "\n",
       "        province          variety             winery  \n",
       "23569  Champagne  Champagne Blend  Charles Heidsieck  \n",
       "96155  Champagne  Champagne Blend  Charles Heidsieck  "
      ]
     },
     "execution_count": 16,
     "metadata": {},
     "output_type": "execute_result"
    }
   ],
   "source": [
    "wine[wine[\"title\"] == \"Charles Heidsieck NV Brut Réserve  (Champagne)\"] "
   ]
  },
  {
   "cell_type": "markdown",
   "metadata": {},
   "source": [
    "#### We have to be careful because some of the titles are the two or more different wine types with different prices or points\n",
    "\n",
    "#### The best way to do it is add to metadata title of the wine and the rest of the variables "
   ]
  },
  {
   "cell_type": "code",
   "execution_count": 17,
   "metadata": {
    "tags": []
   },
   "outputs": [],
   "source": [
    "def metadata(x):\n",
    "    return ''.join(x['country']) + '' + '' .join(x['title']) + ''.join(x['points']) + ' ' + x['price'] + ' ' + ''.join(x['province'] + ' ' + x['variety'])"
   ]
  },
  {
   "cell_type": "code",
   "execution_count": 18,
   "metadata": {
    "tags": []
   },
   "outputs": [
    {
     "data": {
      "text/plain": [
       "metadata\n",
       "ItalyPratesi 2005 Carmione Red (Toscana)93 35.0 Tuscany Red Blend                                                        2\n",
       "GermanyDr. Loosen 2012 Ürziger Würzgarten GG Réserve Alte Reben Erste Lage Dry Riesling (Mosel)92 92.0 Mosel Riesling    2\n",
       "SpainPerelada 2012 Finca Malaveïna Red (Empordà)92 28.0 Northern Spain Red Blend                                         2\n",
       "USOvum 2015 Memorista Tradition Riesling (Eola-Amity Hills)92 25.0 Oregon Riesling                                       2\n",
       "USSilverado 2008 SOLO Cabernet Sauvignon (Stags Leap District)94 90.0 California Cabernet Sauvignon                      2\n",
       "                                                                                                                        ..\n",
       "USPeters Family 2010 Cabernet Sauvignon (Sonoma Mountain)93 58.0 California Cabernet Sauvignon                           1\n",
       "GermanySchloss Saarstein 2012 Serrig Schloss Saarsteiner Auslese Riesling (Mosel)93 71.0 Mosel Riesling                  1\n",
       "FranceRoche de Bellene 2011 Aux Boudots Premier Cru  (Nuits-St.-Georges)93 112.0 Burgundy Pinot Noir                     1\n",
       "USHunnicutt 2010 Cabernet Franc (St. Helena)93 70.0 California Cabernet Franc                                            1\n",
       "PortugalQuinta do Sagrado 2007 Reserva Red (Douro)92 25.0 Douro Portuguese Red                                           1\n",
       "Name: count, Length: 19377, dtype: int64"
      ]
     },
     "execution_count": 18,
     "metadata": {},
     "output_type": "execute_result"
    }
   ],
   "source": [
    "wine['metadata'] = wine.apply(metadata, axis=1)\n",
    "wine['metadata'].value_counts()"
   ]
  },
  {
   "cell_type": "markdown",
   "metadata": {},
   "source": [
    "#### As expected, we have a couple of duplicates of not only wine title but also its price, points, etc. which have to be removed from the dataset"
   ]
  },
  {
   "cell_type": "code",
   "execution_count": 19,
   "metadata": {
    "tags": []
   },
   "outputs": [
    {
     "data": {
      "text/plain": [
       "metadata\n",
       "FranceChâteau Léoville Las Cases 2010  Saint-Julien100 359.0 Bordeaux Bordeaux-style Red Blend                        1\n",
       "USMorgan 2006 Garys' Vineyard Pinot Noir (Santa Lucia Highlands)92 62.0 California Pinot Noir                         1\n",
       "USWilliams Selyem 2006 Bucher Vineyard Pinot Noir (Russian River Valley)92 54.0 California Pinot Noir                 1\n",
       "USChaleur Estate 2007 Blanc White (Columbia Valley (WA))92 35.0 Washington White Blend                                1\n",
       "USCadence 2006 Cara Mia Vineyard Camerata Red Wine Red (Red Mountain)92 55.0 Washington Red Blend                     1\n",
       "                                                                                                                     ..\n",
       "USGoat Bubbles 2011 Sierra Madre Vineyard Crémant Sparkling (Santa Maria Valley)93 38.0 California Sparkling Blend    1\n",
       "USFess Parker 2012 Bien Nacido Vineyard Pinot Noir (Santa Maria Valley)93 55.0 California Pinot Noir                  1\n",
       "ItalyIl Poggione 2006  Brunello di Montalcino93 80.0 Tuscany Sangiovese Grosso                                        1\n",
       "USTownley 2009 Alder Springs Vineyard Chardonnay (Mendocino)93 38.0 California Chardonnay                             1\n",
       "PortugalQuinta do Sagrado 2007 Reserva Red (Douro)92 25.0 Douro Portuguese Red                                        1\n",
       "Name: count, Length: 19377, dtype: int64"
      ]
     },
     "execution_count": 19,
     "metadata": {},
     "output_type": "execute_result"
    }
   ],
   "source": [
    "wine = wine.drop_duplicates('metadata')\n",
    "wine['metadata'].value_counts()"
   ]
  },
  {
   "cell_type": "markdown",
   "metadata": {
    "tags": []
   },
   "source": [
    "#### We can now remove the title from metadata column"
   ]
  },
  {
   "cell_type": "code",
   "execution_count": 20,
   "metadata": {
    "tags": []
   },
   "outputs": [],
   "source": [
    "def metadata(x):\n",
    "    return ''.join(x['country']) + ' ' + ''.join(x['points']) + ' ' + x['price'] + ' ' + ''.join(x['province'] + ' ' + x['variety'])"
   ]
  },
  {
   "cell_type": "code",
   "execution_count": 21,
   "metadata": {
    "tags": []
   },
   "outputs": [
    {
     "data": {
      "text/plain": [
       "111756    France 100 359.0 Bordeaux Bordeaux-style Red B...\n",
       "42197               Portugal 100 450.0 Douro Portuguese Red\n",
       "89729                 France 100 617.0 Champagne Chardonnay\n",
       "113929                         US 100 80.0 Washington Syrah\n",
       "7335               Italy 100 210.0 Tuscany Prugnolo Gentile\n",
       "Name: metadata, dtype: object"
      ]
     },
     "execution_count": 21,
     "metadata": {},
     "output_type": "execute_result"
    }
   ],
   "source": [
    "wine['metadata'] = wine.apply(metadata, axis=1)\n",
    "wine['metadata'].head()"
   ]
  },
  {
   "cell_type": "markdown",
   "metadata": {
    "tags": []
   },
   "source": [
    "#### And we get all the information in one column only"
   ]
  },
  {
   "cell_type": "code",
   "execution_count": 22,
   "metadata": {
    "tags": []
   },
   "outputs": [],
   "source": [
    "from sklearn.feature_extraction.text import CountVectorizer"
   ]
  },
  {
   "cell_type": "markdown",
   "metadata": {
    "tags": []
   },
   "source": [
    "### Once again we will remove from the column all english stop words and repeat previous steps to create the cosine similarity matrix"
   ]
  },
  {
   "cell_type": "code",
   "execution_count": 23,
   "metadata": {
    "tags": []
   },
   "outputs": [],
   "source": [
    "count = CountVectorizer(stop_words='english')\n",
    "count_matrix = count.fit_transform(wine['metadata']) "
   ]
  },
  {
   "cell_type": "code",
   "execution_count": 24,
   "metadata": {
    "tags": []
   },
   "outputs": [],
   "source": [
    "from sklearn.metrics.pairwise import cosine_similarity"
   ]
  },
  {
   "cell_type": "code",
   "execution_count": 25,
   "metadata": {
    "tags": []
   },
   "outputs": [],
   "source": [
    "cosine_sim = cosine_similarity(count_matrix, count_matrix)"
   ]
  },
  {
   "cell_type": "code",
   "execution_count": 26,
   "metadata": {
    "tags": []
   },
   "outputs": [],
   "source": [
    "wine = wine.reset_index()\n",
    "indices = pd.Series(wine.index, index=wine['title'])\n",
    "wine = wine[['title', 'country', 'description', 'points', 'price', 'province', 'variety', 'winery', 'metadata']]"
   ]
  },
  {
   "cell_type": "markdown",
   "metadata": {
    "tags": []
   },
   "source": [
    "### We were based on different similary matrix so we have to rebuild our recommendation's def"
   ]
  },
  {
   "cell_type": "code",
   "execution_count": 27,
   "metadata": {
    "tags": []
   },
   "outputs": [],
   "source": [
    "def wine_recommendations(title, cosine_sim=cosine_sim):\n",
    "    \n",
    "    # Fit index of the wine to the title\n",
    "    idx = indices[title]\n",
    "    \n",
    "    # Calculate the similarity score between wine which you selected and the others wines in database\n",
    "    sim_scores = list(enumerate(cosine_sim[idx]))\n",
    "    \n",
    "    # Sort the results by the similarity scores\n",
    "    sim_scores = sorted(sim_scores, key=lambda x: x[1], reverse=True)\n",
    "    \n",
    "    # Show the top 5 results with the highest similarity score\n",
    "    sim_scores = sim_scores[1:6]\n",
    "\n",
    "    # Extract indices of the recommended wines\n",
    "    wine_indices = [i[0] for i in sim_scores]\n",
    "\n",
    "    # Create new dataframe\n",
    "    recommendation = wine[['title', 'country', 'description', 'points', 'price', 'province', 'variety', 'winery', 'metadata']].iloc[wine_indices]\n",
    "\n",
    "    # Combine selected wine and recommendations in this new dataframe\n",
    "    frames = [wine[wine[\"title\"] == title], recommendation]\n",
    "    recommendation = pd.concat(frames, keys=['x', 'y'])\n",
    "    \n",
    "    # Return the result recommendation\n",
    "    return recommendation"
   ]
  },
  {
   "cell_type": "code",
   "execution_count": 28,
   "metadata": {
    "tags": []
   },
   "outputs": [
    {
     "data": {
      "text/html": [
       "<div>\n",
       "<style scoped>\n",
       "    .dataframe tbody tr th:only-of-type {\n",
       "        vertical-align: middle;\n",
       "    }\n",
       "\n",
       "    .dataframe tbody tr th {\n",
       "        vertical-align: top;\n",
       "    }\n",
       "\n",
       "    .dataframe thead th {\n",
       "        text-align: right;\n",
       "    }\n",
       "</style>\n",
       "<table border=\"1\" class=\"dataframe\">\n",
       "  <thead>\n",
       "    <tr style=\"text-align: right;\">\n",
       "      <th></th>\n",
       "      <th></th>\n",
       "      <th>title</th>\n",
       "      <th>country</th>\n",
       "      <th>description</th>\n",
       "      <th>points</th>\n",
       "      <th>price</th>\n",
       "      <th>province</th>\n",
       "      <th>variety</th>\n",
       "      <th>winery</th>\n",
       "      <th>metadata</th>\n",
       "    </tr>\n",
       "  </thead>\n",
       "  <tbody>\n",
       "    <tr>\n",
       "      <th>x</th>\n",
       "      <th>82</th>\n",
       "      <td>Château Palmer 2009  Margaux</td>\n",
       "      <td>France</td>\n",
       "      <td>A beautiful wine, with the firmest tannins sur...</td>\n",
       "      <td>98</td>\n",
       "      <td>380.0</td>\n",
       "      <td>Bordeaux</td>\n",
       "      <td>Bordeaux-style Red Blend</td>\n",
       "      <td>Château Palmer</td>\n",
       "      <td>France 98 380.0 Bordeaux Bordeaux-style Red Blend</td>\n",
       "    </tr>\n",
       "    <tr>\n",
       "      <th rowspan=\"5\" valign=\"top\">y</th>\n",
       "      <th>83</th>\n",
       "      <td>Château Margaux 2009  Margaux</td>\n",
       "      <td>France</td>\n",
       "      <td>A massive wine for Margaux, packed with tannin...</td>\n",
       "      <td>98</td>\n",
       "      <td>1900.0</td>\n",
       "      <td>Bordeaux</td>\n",
       "      <td>Bordeaux-style Red Blend</td>\n",
       "      <td>Château Margaux</td>\n",
       "      <td>France 98 1900.0 Bordeaux Bordeaux-style Red B...</td>\n",
       "    </tr>\n",
       "    <tr>\n",
       "      <th>92</th>\n",
       "      <td>Château Léoville Poyferré 2010  Saint-Julien</td>\n",
       "      <td>France</td>\n",
       "      <td>A wine of architectural strength and classical...</td>\n",
       "      <td>98</td>\n",
       "      <td>92.0</td>\n",
       "      <td>Bordeaux</td>\n",
       "      <td>Bordeaux-style Red Blend</td>\n",
       "      <td>Château Léoville Poyferré</td>\n",
       "      <td>France 98 92.0 Bordeaux Bordeaux-style Red Blend</td>\n",
       "    </tr>\n",
       "    <tr>\n",
       "      <th>100</th>\n",
       "      <td>Château Léoville Las Cases 2009  Saint-Julien</td>\n",
       "      <td>France</td>\n",
       "      <td>A beautifully structured wine, with its tannin...</td>\n",
       "      <td>98</td>\n",
       "      <td>360.0</td>\n",
       "      <td>Bordeaux</td>\n",
       "      <td>Bordeaux-style Red Blend</td>\n",
       "      <td>Château Léoville Las Cases</td>\n",
       "      <td>France 98 360.0 Bordeaux Bordeaux-style Red Blend</td>\n",
       "    </tr>\n",
       "    <tr>\n",
       "      <th>6138</th>\n",
       "      <td>Château Vray Croix de Gay 2009  Pomerol</td>\n",
       "      <td>France</td>\n",
       "      <td>Powerful tannins give this wine its dense, con...</td>\n",
       "      <td>93</td>\n",
       "      <td>98.0</td>\n",
       "      <td>Bordeaux</td>\n",
       "      <td>Bordeaux-style Red Blend</td>\n",
       "      <td>Château Vray Croix de Gay</td>\n",
       "      <td>France 93 98.0 Bordeaux Bordeaux-style Red Blend</td>\n",
       "    </tr>\n",
       "    <tr>\n",
       "      <th>52</th>\n",
       "      <td>Château Climens 2014  Barsac</td>\n",
       "      <td>France</td>\n",
       "      <td>This is beautully concentrated and full of gre...</td>\n",
       "      <td>98</td>\n",
       "      <td>70.0</td>\n",
       "      <td>Bordeaux</td>\n",
       "      <td>Bordeaux-style White Blend</td>\n",
       "      <td>Château Climens</td>\n",
       "      <td>France 98 70.0 Bordeaux Bordeaux-style White B...</td>\n",
       "    </tr>\n",
       "  </tbody>\n",
       "</table>\n",
       "</div>"
      ],
      "text/plain": [
       "                                                title country  \\\n",
       "x 82                     Château Palmer 2009  Margaux  France   \n",
       "y 83                    Château Margaux 2009  Margaux  France   \n",
       "  92     Château Léoville Poyferré 2010  Saint-Julien  France   \n",
       "  100   Château Léoville Las Cases 2009  Saint-Julien  France   \n",
       "  6138        Château Vray Croix de Gay 2009  Pomerol  France   \n",
       "  52                     Château Climens 2014  Barsac  France   \n",
       "\n",
       "                                              description points   price  \\\n",
       "x 82    A beautiful wine, with the firmest tannins sur...     98   380.0   \n",
       "y 83    A massive wine for Margaux, packed with tannin...     98  1900.0   \n",
       "  92    A wine of architectural strength and classical...     98    92.0   \n",
       "  100   A beautifully structured wine, with its tannin...     98   360.0   \n",
       "  6138  Powerful tannins give this wine its dense, con...     93    98.0   \n",
       "  52    This is beautully concentrated and full of gre...     98    70.0   \n",
       "\n",
       "        province                     variety                      winery  \\\n",
       "x 82    Bordeaux    Bordeaux-style Red Blend              Château Palmer   \n",
       "y 83    Bordeaux    Bordeaux-style Red Blend             Château Margaux   \n",
       "  92    Bordeaux    Bordeaux-style Red Blend   Château Léoville Poyferré   \n",
       "  100   Bordeaux    Bordeaux-style Red Blend  Château Léoville Las Cases   \n",
       "  6138  Bordeaux    Bordeaux-style Red Blend   Château Vray Croix de Gay   \n",
       "  52    Bordeaux  Bordeaux-style White Blend             Château Climens   \n",
       "\n",
       "                                                 metadata  \n",
       "x 82    France 98 380.0 Bordeaux Bordeaux-style Red Blend  \n",
       "y 83    France 98 1900.0 Bordeaux Bordeaux-style Red B...  \n",
       "  92     France 98 92.0 Bordeaux Bordeaux-style Red Blend  \n",
       "  100   France 98 360.0 Bordeaux Bordeaux-style Red Blend  \n",
       "  6138   France 93 98.0 Bordeaux Bordeaux-style Red Blend  \n",
       "  52    France 98 70.0 Bordeaux Bordeaux-style White B...  "
      ]
     },
     "execution_count": 28,
     "metadata": {},
     "output_type": "execute_result"
    }
   ],
   "source": [
    "Recommendation = wine_recommendations('Château Palmer 2009  Margaux')\n",
    "Recommendation"
   ]
  },
  {
   "cell_type": "markdown",
   "metadata": {
    "tags": []
   },
   "source": [
    "#### Ok, as expected, we have much better recommendations but I think they are too accurate. It's works more like showing the substitute of the wines rather than showing similar wines. We can try to use less metadata and add price segment instead of the actual price.\n",
    "\n",
    "#### Price segment - What is it? : Instead of having dataframe prices such as 30.00 USD or 31.00 USD, I prefer to describe it as one of the segment, in this case it would be \"Low-Price\"."
   ]
  },
  {
   "cell_type": "markdown",
   "metadata": {},
   "source": [
    "### Before we create price segments, we have to change type of price from string to float, as we will need the numerical values to calculate the segments"
   ]
  },
  {
   "cell_type": "code",
   "execution_count": 29,
   "metadata": {
    "tags": []
   },
   "outputs": [
    {
     "data": {
      "text/plain": [
       "dtype('float64')"
      ]
     },
     "execution_count": 29,
     "metadata": {},
     "output_type": "execute_result"
    }
   ],
   "source": [
    "wine['price'] = wine['price'].astype(float)\n",
    "wine[\"price\"].dtype"
   ]
  },
  {
   "cell_type": "code",
   "execution_count": 30,
   "metadata": {
    "tags": []
   },
   "outputs": [
    {
     "data": {
      "text/plain": [
       "<Axes: ylabel='Frequency'>"
      ]
     },
     "execution_count": 30,
     "metadata": {},
     "output_type": "execute_result"
    },
    {
     "data": {
      "image/png": "[encoded data removed]",
      "text/plain": [
       "<Figure size 640x480 with 1 Axes>"
      ]
     },
     "metadata": {},
     "output_type": "display_data"
    }
   ],
   "source": [
    "wine[\"price\"].plot(kind='hist')"
   ]
  },
  {
   "cell_type": "markdown",
   "metadata": {},
   "source": [
    "#### As seen on the graph we have a lot of \"cheap\" wine bottles (less than 250 $) and only a few of prestige. Let's create 8 price segments."
   ]
  },
  {
   "cell_type": "code",
   "execution_count": 31,
   "metadata": {
    "tags": []
   },
   "outputs": [
    {
     "data": {
      "text/plain": [
       "0        (100.0, 2500.0]\n",
       "1        (100.0, 2500.0]\n",
       "2        (100.0, 2500.0]\n",
       "3          (75.0, 100.0]\n",
       "4        (100.0, 2500.0]\n",
       "              ...       \n",
       "19372       (62.0, 75.0]\n",
       "19373       (30.0, 38.0]\n",
       "19374       (45.0, 52.0]\n",
       "19375       (45.0, 52.0]\n",
       "19376     (10.999, 30.0]\n",
       "Name: price, Length: 19377, dtype: category\n",
       "Categories (8, interval[float64, right]): [(10.999, 30.0] < (30.0, 38.0] < (38.0, 45.0] < (45.0, 52.0] < (52.0, 62.0] < (62.0, 75.0] < (75.0, 100.0] < (100.0, 2500.0]]"
      ]
     },
     "execution_count": 31,
     "metadata": {},
     "output_type": "execute_result"
    }
   ],
   "source": [
    "pd.qcut(wine[\"price\"], q=8)"
   ]
  },
  {
   "cell_type": "markdown",
   "metadata": {
    "tags": []
   },
   "source": [
    "#### Above code suggests us a range of prices for each segment. It would work if we want to have the same number of observations in every segment but we don't so let's modify it a little but based on it."
   ]
  },
  {
   "cell_type": "markdown",
   "metadata": {
    "tags": []
   },
   "source": [
    "##### Therefore we will be using these price ranges to define the segments:\n",
    "#####    - Low-Price [0 - 30.0]\n",
    "#####    - Reasonable (30.0 - 55.0]\n",
    "#####    - Standard (55.0 - 80.0]\n",
    "#####    - High-Price (80.0 - 120.0]\n",
    "#####    - Premium (120.0 - 250.0]\n",
    "#####    - Super Premium (250.0 - 500.0]\n",
    "#####    - Prestige (500.0 - 1000.00]\n",
    "#####    - Super Prestige (1000.0 - 2500.0]"
   ]
  },
  {
   "cell_type": "markdown",
   "metadata": {},
   "source": [
    "#### We will work on a copy of the price column"
   ]
  },
  {
   "cell_type": "code",
   "execution_count": 32,
   "metadata": {
    "tags": []
   },
   "outputs": [],
   "source": [
    "wine[\"price segment\"] = wine[\"price\"]"
   ]
  },
  {
   "cell_type": "markdown",
   "metadata": {},
   "source": [
    "### Loop to sort each wine to its right price segment"
   ]
  },
  {
   "cell_type": "code",
   "execution_count": 33,
   "metadata": {
    "tags": []
   },
   "outputs": [],
   "source": [
    "segment = []\n",
    "\n",
    "for row in wine[\"price segment\"]:\n",
    "    if row < 30:\n",
    "        segment.append('LowPrice')\n",
    "    elif row < 55:\n",
    "        segment.append('Reasonable')\n",
    "    elif row < 80:\n",
    "        segment.append('Standard')\n",
    "    elif row < 120:\n",
    "        segment.append('High-Price')\n",
    "    elif row < 250:\n",
    "        segment.append('Premium')\n",
    "    elif row < 500:\n",
    "        segment.append('SuperPremium')\n",
    "    elif row < 1000:\n",
    "        segment.append('Prestige')\n",
    "    elif row >= 1000:\n",
    "        segment.append('SuperPrestige')\n",
    "    else:\n",
    "        segment.append('Error')\n",
    "        \n",
    "wine['price segment'] = segment"
   ]
  },
  {
   "cell_type": "markdown",
   "metadata": {
    "tags": []
   },
   "source": [
    "#### Here we can see how many wines we have for each of the segments we set"
   ]
  },
  {
   "cell_type": "code",
   "execution_count": 34,
   "metadata": {
    "tags": []
   },
   "outputs": [
    {
     "data": {
      "text/plain": [
       "price segment\n",
       "Reasonable       7595\n",
       "Standard         4904\n",
       "High-Price       2590\n",
       "LowPrice         2341\n",
       "Premium          1498\n",
       "SuperPremium      352\n",
       "Prestige           83\n",
       "SuperPrestige      14\n",
       "Name: count, dtype: int64"
      ]
     },
     "execution_count": 34,
     "metadata": {},
     "output_type": "execute_result"
    }
   ],
   "source": [
    "wine['price segment'].value_counts()"
   ]
  },
  {
   "cell_type": "markdown",
   "metadata": {
    "tags": []
   },
   "source": [
    "#### We have to rebuild our metadata and we will limit it to the most important variables to have more varied recommendations."
   ]
  },
  {
   "cell_type": "code",
   "execution_count": 35,
   "metadata": {
    "tags": []
   },
   "outputs": [],
   "source": [
    "def metadata(x):\n",
    "    return ''.join(x['points']) + ' ' + x['price segment'] + ' ' + x['variety']"
   ]
  },
  {
   "cell_type": "code",
   "execution_count": 36,
   "metadata": {
    "tags": []
   },
   "outputs": [],
   "source": [
    "wine['metadata'] = wine.apply(metadata, axis=1)"
   ]
  },
  {
   "cell_type": "markdown",
   "metadata": {},
   "source": [
    "#### Once again we have to create the new similarity matrix as done in previous steps"
   ]
  },
  {
   "cell_type": "code",
   "execution_count": 37,
   "metadata": {
    "tags": []
   },
   "outputs": [],
   "source": [
    "count = CountVectorizer(stop_words='english')\n",
    "count_matrix = count.fit_transform(wine['metadata']) "
   ]
  },
  {
   "cell_type": "code",
   "execution_count": 38,
   "metadata": {
    "tags": []
   },
   "outputs": [],
   "source": [
    "cosine_sim = cosine_similarity(count_matrix, count_matrix)"
   ]
  },
  {
   "cell_type": "code",
   "execution_count": 39,
   "metadata": {
    "tags": []
   },
   "outputs": [],
   "source": [
    "wine = wine.reset_index()\n",
    "indices = pd.Series(wine.index, index=wine['title'])"
   ]
  },
  {
   "cell_type": "code",
   "execution_count": 40,
   "metadata": {
    "tags": []
   },
   "outputs": [],
   "source": [
    "wine = wine[['title', 'country', 'description', 'points', 'price', 'price segment', 'province', 'variety', 'winery']]"
   ]
  },
  {
   "cell_type": "code",
   "execution_count": 41,
   "metadata": {
    "tags": []
   },
   "outputs": [],
   "source": [
    "def wine_recommendations(title, cosine_sim=cosine_sim):\n",
    "    \n",
    "    # Fit index of the wine to the title\n",
    "    idx = indices[title]\n",
    "    \n",
    "    # Calculate the similarity score between wine which you selected and the others wines in database\n",
    "    sim_scores = list(enumerate(cosine_sim[idx]))\n",
    "    \n",
    "    # Sort the results by the similarity scores\n",
    "    sim_scores = sorted(sim_scores, key=lambda x: x[1], reverse=True)\n",
    "    \n",
    "    # Show the top 10 results with the highest similarity score\n",
    "    sim_scores = sim_scores[1:10]\n",
    "\n",
    "    # Extract indices of the recommended wines\n",
    "    wine_indices = [i[0] for i in sim_scores]\n",
    "\n",
    "    # Create new dataframe\n",
    "    recommendation = wine[['title', 'country', 'description', 'points', 'price', 'price segment', 'province', 'variety', 'winery']].iloc[wine_indices]\n",
    "\n",
    "    # Combine selected wine and recommendations in this new dataframe\n",
    "    frames = [wine[wine[\"title\"] == title], recommendation]\n",
    "    recommendation = pd.concat(frames, keys=['x', 'y'])\n",
    "    \n",
    "    # Return the result recommendation\n",
    "    return recommendation"
   ]
  },
  {
   "cell_type": "code",
   "execution_count": 42,
   "metadata": {
    "tags": []
   },
   "outputs": [
    {
     "data": {
      "text/html": [
       "<div>\n",
       "<style scoped>\n",
       "    .dataframe tbody tr th:only-of-type {\n",
       "        vertical-align: middle;\n",
       "    }\n",
       "\n",
       "    .dataframe tbody tr th {\n",
       "        vertical-align: top;\n",
       "    }\n",
       "\n",
       "    .dataframe thead th {\n",
       "        text-align: right;\n",
       "    }\n",
       "</style>\n",
       "<table border=\"1\" class=\"dataframe\">\n",
       "  <thead>\n",
       "    <tr style=\"text-align: right;\">\n",
       "      <th></th>\n",
       "      <th></th>\n",
       "      <th>title</th>\n",
       "      <th>country</th>\n",
       "      <th>description</th>\n",
       "      <th>points</th>\n",
       "      <th>price</th>\n",
       "      <th>price segment</th>\n",
       "      <th>province</th>\n",
       "      <th>variety</th>\n",
       "      <th>winery</th>\n",
       "    </tr>\n",
       "  </thead>\n",
       "  <tbody>\n",
       "    <tr>\n",
       "      <th>x</th>\n",
       "      <th>771</th>\n",
       "      <td>Château Mouton Rothschild 2009  Pauillac</td>\n",
       "      <td>France</td>\n",
       "      <td>The purest Cabernet Sauvignon fruit, with dark...</td>\n",
       "      <td>96</td>\n",
       "      <td>1300.0</td>\n",
       "      <td>SuperPrestige</td>\n",
       "      <td>Bordeaux</td>\n",
       "      <td>Bordeaux-style Red Blend</td>\n",
       "      <td>Château Mouton Rothschild</td>\n",
       "    </tr>\n",
       "    <tr>\n",
       "      <th rowspan=\"9\" valign=\"top\">y</th>\n",
       "      <th>759</th>\n",
       "      <td>Château Haut-Brion 2009  Pessac-Léognan</td>\n",
       "      <td>France</td>\n",
       "      <td>Solid, very structured, packed with dense and ...</td>\n",
       "      <td>96</td>\n",
       "      <td>1200.0</td>\n",
       "      <td>SuperPrestige</td>\n",
       "      <td>Bordeaux</td>\n",
       "      <td>Bordeaux-style Red Blend</td>\n",
       "      <td>Château Haut-Brion</td>\n",
       "    </tr>\n",
       "    <tr>\n",
       "      <th>771</th>\n",
       "      <td>Château Mouton Rothschild 2009  Pauillac</td>\n",
       "      <td>France</td>\n",
       "      <td>The purest Cabernet Sauvignon fruit, with dark...</td>\n",
       "      <td>96</td>\n",
       "      <td>1300.0</td>\n",
       "      <td>SuperPrestige</td>\n",
       "      <td>Bordeaux</td>\n",
       "      <td>Bordeaux-style Red Blend</td>\n",
       "      <td>Château Mouton Rothschild</td>\n",
       "    </tr>\n",
       "    <tr>\n",
       "      <th>9</th>\n",
       "      <td>Château Lafite Rothschild 2010  Pauillac</td>\n",
       "      <td>France</td>\n",
       "      <td>Almost black in color, this stunning wine is g...</td>\n",
       "      <td>100</td>\n",
       "      <td>1500.0</td>\n",
       "      <td>SuperPrestige</td>\n",
       "      <td>Bordeaux</td>\n",
       "      <td>Bordeaux-style Red Blend</td>\n",
       "      <td>Château Lafite Rothschild</td>\n",
       "    </tr>\n",
       "    <tr>\n",
       "      <th>16</th>\n",
       "      <td>Château Cheval Blanc 2010  Saint-Émilion</td>\n",
       "      <td>France</td>\n",
       "      <td>This is the finest Cheval Blanc for many years...</td>\n",
       "      <td>100</td>\n",
       "      <td>1500.0</td>\n",
       "      <td>SuperPrestige</td>\n",
       "      <td>Bordeaux</td>\n",
       "      <td>Bordeaux-style Red Blend</td>\n",
       "      <td>Château Cheval Blanc</td>\n",
       "    </tr>\n",
       "    <tr>\n",
       "      <th>83</th>\n",
       "      <td>Château Margaux 2009  Margaux</td>\n",
       "      <td>France</td>\n",
       "      <td>A massive wine for Margaux, packed with tannin...</td>\n",
       "      <td>98</td>\n",
       "      <td>1900.0</td>\n",
       "      <td>SuperPrestige</td>\n",
       "      <td>Bordeaux</td>\n",
       "      <td>Bordeaux-style Red Blend</td>\n",
       "      <td>Château Margaux</td>\n",
       "    </tr>\n",
       "    <tr>\n",
       "      <th>122</th>\n",
       "      <td>Château La Mission Haut-Brion 2009  Pessac-Léo...</td>\n",
       "      <td>France</td>\n",
       "      <td>Such a generous and ripe wine, with a dark cor...</td>\n",
       "      <td>97</td>\n",
       "      <td>1100.0</td>\n",
       "      <td>SuperPrestige</td>\n",
       "      <td>Bordeaux</td>\n",
       "      <td>Bordeaux-style Red Blend</td>\n",
       "      <td>Château La Mission Haut-Brion</td>\n",
       "    </tr>\n",
       "    <tr>\n",
       "      <th>293</th>\n",
       "      <td>Château Pétrus 2011  Pomerol</td>\n",
       "      <td>France</td>\n",
       "      <td>This extravagantly perfumed wine has great jui...</td>\n",
       "      <td>97</td>\n",
       "      <td>2000.0</td>\n",
       "      <td>SuperPrestige</td>\n",
       "      <td>Bordeaux</td>\n",
       "      <td>Bordeaux-style Red Blend</td>\n",
       "      <td>Château Pétrus</td>\n",
       "    </tr>\n",
       "    <tr>\n",
       "      <th>326</th>\n",
       "      <td>Portfolio 2013 Limited Edition Red (Napa Valley)</td>\n",
       "      <td>US</td>\n",
       "      <td>Robert Mondavi winemaker Genevieve Janssens ma...</td>\n",
       "      <td>96</td>\n",
       "      <td>155.0</td>\n",
       "      <td>Premium</td>\n",
       "      <td>California</td>\n",
       "      <td>Bordeaux-style Red Blend</td>\n",
       "      <td>Portfolio</td>\n",
       "    </tr>\n",
       "    <tr>\n",
       "      <th>330</th>\n",
       "      <td>Château Mouton Rothschild 2014  Pauillac</td>\n",
       "      <td>France</td>\n",
       "      <td>The label of this vintage is designed by David...</td>\n",
       "      <td>96</td>\n",
       "      <td>400.0</td>\n",
       "      <td>SuperPremium</td>\n",
       "      <td>Bordeaux</td>\n",
       "      <td>Bordeaux-style Red Blend</td>\n",
       "      <td>Château Mouton Rothschild</td>\n",
       "    </tr>\n",
       "  </tbody>\n",
       "</table>\n",
       "</div>"
      ],
      "text/plain": [
       "                                                   title country  \\\n",
       "x 771           Château Mouton Rothschild 2009  Pauillac  France   \n",
       "y 759            Château Haut-Brion 2009  Pessac-Léognan  France   \n",
       "  771           Château Mouton Rothschild 2009  Pauillac  France   \n",
       "  9             Château Lafite Rothschild 2010  Pauillac  France   \n",
       "  16            Château Cheval Blanc 2010  Saint-Émilion  France   \n",
       "  83                       Château Margaux 2009  Margaux  France   \n",
       "  122  Château La Mission Haut-Brion 2009  Pessac-Léo...  France   \n",
       "  293                       Château Pétrus 2011  Pomerol  France   \n",
       "  326   Portfolio 2013 Limited Edition Red (Napa Valley)      US   \n",
       "  330           Château Mouton Rothschild 2014  Pauillac  France   \n",
       "\n",
       "                                             description points   price  \\\n",
       "x 771  The purest Cabernet Sauvignon fruit, with dark...     96  1300.0   \n",
       "y 759  Solid, very structured, packed with dense and ...     96  1200.0   \n",
       "  771  The purest Cabernet Sauvignon fruit, with dark...     96  1300.0   \n",
       "  9    Almost black in color, this stunning wine is g...    100  1500.0   \n",
       "  16   This is the finest Cheval Blanc for many years...    100  1500.0   \n",
       "  83   A massive wine for Margaux, packed with tannin...     98  1900.0   \n",
       "  122  Such a generous and ripe wine, with a dark cor...     97  1100.0   \n",
       "  293  This extravagantly perfumed wine has great jui...     97  2000.0   \n",
       "  326  Robert Mondavi winemaker Genevieve Janssens ma...     96   155.0   \n",
       "  330  The label of this vintage is designed by David...     96   400.0   \n",
       "\n",
       "       price segment    province                   variety  \\\n",
       "x 771  SuperPrestige    Bordeaux  Bordeaux-style Red Blend   \n",
       "y 759  SuperPrestige    Bordeaux  Bordeaux-style Red Blend   \n",
       "  771  SuperPrestige    Bordeaux  Bordeaux-style Red Blend   \n",
       "  9    SuperPrestige    Bordeaux  Bordeaux-style Red Blend   \n",
       "  16   SuperPrestige    Bordeaux  Bordeaux-style Red Blend   \n",
       "  83   SuperPrestige    Bordeaux  Bordeaux-style Red Blend   \n",
       "  122  SuperPrestige    Bordeaux  Bordeaux-style Red Blend   \n",
       "  293  SuperPrestige    Bordeaux  Bordeaux-style Red Blend   \n",
       "  326        Premium  California  Bordeaux-style Red Blend   \n",
       "  330   SuperPremium    Bordeaux  Bordeaux-style Red Blend   \n",
       "\n",
       "                              winery  \n",
       "x 771      Château Mouton Rothschild  \n",
       "y 759             Château Haut-Brion  \n",
       "  771      Château Mouton Rothschild  \n",
       "  9        Château Lafite Rothschild  \n",
       "  16            Château Cheval Blanc  \n",
       "  83                 Château Margaux  \n",
       "  122  Château La Mission Haut-Brion  \n",
       "  293                 Château Pétrus  \n",
       "  326                      Portfolio  \n",
       "  330      Château Mouton Rothschild  "
      ]
     },
     "execution_count": 42,
     "metadata": {},
     "output_type": "execute_result"
    }
   ],
   "source": [
    "Recommendation = wine_recommendations('Château Mouton Rothschild 2009  Pauillac')\n",
    "Recommendation"
   ]
  },
  {
   "cell_type": "markdown",
   "metadata": {
    "tags": []
   },
   "source": [
    "#### Now these recommendations which we created are better. As you see, \"Château Mouton Rothschild 2009 Pauillac\" has a lot of positive reviews (96 points) but it is a really expensive wine (1300 USD per bottle) and not so many people could afford to buy it. Thanks to the latest version of the engine, we found alternatives which are \"Portfolio 2013 Limited Edition Red (Napa Valley)\" for 155 USD per bottle and \"Château Mouton Rothschild 2014 Pauillac\" for 400 USD per bottle. So before you buy the \"Château Mouton Rothschild 2009 Pauillac\" for 1300 USD, take a look on the same wine from 2010 which has the best reviews (100 points!) and the price is \"only\" 200 USD higher."
   ]
  },
  {
   "cell_type": "code",
   "execution_count": null,
   "metadata": {},
   "outputs": [],
   "source": []
  }
 ],
 "metadata": {
  "kernelspec": {
   "display_name": "Python 3 (ipykernel)",
   "language": "python",
   "name": "python3"
  },
  "language_info": {
   "codemirror_mode": {
    "name": "ipython",
    "version": 3
   },
   "file_extension": ".py",
   "mimetype": "text/x-python",
   "name": "python",
   "nbconvert_exporter": "python",
   "pygments_lexer": "ipython3",
   "version": "3.11.5"
  }
 },
 "nbformat": 4,
 "nbformat_minor": 4
}
